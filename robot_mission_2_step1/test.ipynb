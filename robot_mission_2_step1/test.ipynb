{
 "cells": [
  {
   "cell_type": "code",
   "execution_count": null,
   "metadata": {},
   "outputs": [],
   "source": [
    "from model_Louis import environment\n",
    "\n",
    "model = environment()  # 10x10 grid with 2 green, 2 yellow, and 2 red robots\n",
    "model.run_model()"
   ]
  }
 ],
 "metadata": {
  "language_info": {
   "name": "python"
  }
 },
 "nbformat": 4,
 "nbformat_minor": 2
}
